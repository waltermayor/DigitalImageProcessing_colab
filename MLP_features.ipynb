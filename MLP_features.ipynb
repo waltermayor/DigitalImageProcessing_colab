{
  "nbformat": 4,
  "nbformat_minor": 0,
  "metadata": {
    "kernelspec": {
      "name": "python3",
      "display_name": "Python 3"
    },
    "language_info": {
      "codemirror_mode": {
        "name": "ipython",
        "version": 3
      },
      "file_extension": ".py",
      "mimetype": "text/x-python",
      "name": "python",
      "nbconvert_exporter": "python",
      "pygments_lexer": "ipython3",
      "version": "3.6.4"
    },
    "colab": {
      "name": "MLP_features.ipynb",
      "provenance": [],
      "include_colab_link": true
    },
    "accelerator": "GPU"
  },
  "cells": [
    {
      "cell_type": "markdown",
      "metadata": {
        "id": "view-in-github",
        "colab_type": "text"
      },
      "source": [
        "<a href=\"https://colab.research.google.com/github/waltermayor/DigitalImageProcessing_colab/blob/master/MLP_features.ipynb\" target=\"_parent\"><img src=\"https://colab.research.google.com/assets/colab-badge.svg\" alt=\"Open In Colab\"/></a>"
      ]
    },
    {
      "cell_type": "code",
      "metadata": {
        "scrolled": true,
        "id": "uSLhMpUtPw3j",
        "colab_type": "code",
        "colab": {
          "base_uri": "https://localhost:8080/",
          "height": 64
        },
        "outputId": "a673f022-628c-4396-f9ce-090e1bfdbf17"
      },
      "source": [
        "import numpy as np\n",
        "#import keras as k\n",
        "import tensorflow as tf\n",
        "import matplotlib.pyplot as plt\n",
        "import cv2\n",
        "from PIL import Image\n",
        "\n",
        "% pip install opencv-contrib-python==3.2.0.7"
      ],
      "execution_count": 1,
      "outputs": [
        {
          "output_type": "display_data",
          "data": {
            "text/html": [
              "<p style=\"color: red;\">\n",
              "The default version of TensorFlow in Colab will soon switch to TensorFlow 2.x.<br>\n",
              "We recommend you <a href=\"https://www.tensorflow.org/guide/migrate\" target=\"_blank\">upgrade</a> now \n",
              "or ensure your notebook will continue to use TensorFlow 1.x via the <code>%tensorflow_version 1.x</code> magic:\n",
              "<a href=\"https://colab.research.google.com/notebooks/tensorflow_version.ipynb\" target=\"_blank\">more info</a>.</p>\n"
            ],
            "text/plain": [
              "<IPython.core.display.HTML object>"
            ]
          },
          "metadata": {
            "tags": []
          }
        }
      ]
    },
    {
      "cell_type": "code",
      "metadata": {
        "id": "1zrTrBjraNFF",
        "colab_type": "code",
        "colab": {}
      },
      "source": [
        "def displayColor2(a, b,title1 = \"Original\", title2 = \"Edited\"):\n",
        "    plt.figure(figsize=(20,20))\n",
        "    plt.subplot(131), plt.imshow(a), plt.title(title1)\n",
        "    plt.xticks([]), plt.yticks([])\n",
        "    plt.subplot(132), plt.imshow(b), plt.title(title2)\n",
        "    plt.xticks([]), plt.yticks([])\n",
        "    plt.show()"
      ],
      "execution_count": 0,
      "outputs": []
    },
    {
      "cell_type": "code",
      "metadata": {
        "id": "vi75SO49Pw3s",
        "colab_type": "code",
        "colab": {}
      },
      "source": [
        "n_inputs = 32*32*3       # flattening each image to provide as input.  #  trying to form a model in the shape of a tunnel\n",
        "n_hidden1 = 400        # Num of nodes in hidden layer 1.\n",
        "n_hidden2 = 250        \n",
        "n_hidden3 = 64\n",
        "n_outputs = 10        # Number of final outputs"
      ],
      "execution_count": 0,
      "outputs": []
    },
    {
      "cell_type": "code",
      "metadata": {
        "id": "gS0fn9dcPw36",
        "colab_type": "code",
        "colab": {}
      },
      "source": [
        "# Now declare the input and output placeholders. \n",
        "# Placeholders let us use different userdefined inputs in the first and last layers \n",
        "\n",
        "X = tf.placeholder(tf.float32, shape = (None, n_inputs), name = \"X\")  #The None values can be taken as i/p's from user later.\n",
        "y = tf.placeholder(tf.int32, shape=(None), name = \"y\")\n",
        "training = tf.placeholder_with_default(False, shape=(), name='training')\n"
      ],
      "execution_count": 0,
      "outputs": []
    },
    {
      "cell_type": "code",
      "metadata": {
        "id": "M6lQOqtQPw4A",
        "colab_type": "code",
        "colab": {}
      },
      "source": [
        "### This function is not used in the code below - It is just for personal reference.\n",
        "def neural_layer(X, n_neurons, name, activation=None):\n",
        "    with tf.name_scope(name):\n",
        "        n_inputs = int(X.get_shape()[1])\n",
        "        std_dev = 2/np.sqrt(n_inputs)   # Inorder to not let the SGD algo break or explode, it is essential to initialize the \n",
        "                                        # variables. Initializing randomly using a truncated normal distribution with a \n",
        "                                        # std_dev of 2/ sqrt(n_inputs) can drastically improve the performance of the nn.\n",
        "        init = tf.truncated_normal((n_inputs, n_neurons), stddev = std_dev)\n",
        "        W = tf.Variable(init, name = \"Kernel\")\n",
        "        b = tf.Variable(tf.zeros([n_neurons]), name = \"bias\")\n",
        "        Z = tf.matmul(X, W) + b;\n",
        "        if activation is not None:\n",
        "            return activation(Z)\n",
        "        else:\n",
        "            return Z\n",
        "\n",
        "##Instead of this function we can use tensorflow inbuilt function - tf.layers.dense() to achieve the same purpose."
      ],
      "execution_count": 0,
      "outputs": []
    },
    {
      "cell_type": "code",
      "metadata": {
        "id": "Or-iaB4rPw4H",
        "colab_type": "code",
        "colab": {
          "base_uri": "https://localhost:8080/",
          "height": 332
        },
        "outputId": "510de7fc-876d-453d-9628-84fb49926349"
      },
      "source": [
        "from functools import partial  # The batch normalization can be automated using \"partial\" - but i havent done that below\n",
        "\n",
        "X = tf.placeholder(tf.float32, shape=(None, n_inputs), name=\"X\")\n",
        "training = tf.placeholder_with_default(False, shape=(), name='training')\n",
        "\n",
        "batch_norm_momentum = 0.9\n",
        "with tf.name_scope(\"dnn\"):\n",
        "    \n",
        "    #### Different initializers\n",
        "    \n",
        "    #he_init = tf.variance_scaling_initializer()  - around 45% acc (SGD)\n",
        "    #he_init = tf.random_uniform_initializer()    - around 46.5% acc (SGD)\n",
        "    he_init = tf.contrib.layers.xavier_initializer()  # - 48% accuracy (SGD) , upto 50% using Adam\n",
        "    \n",
        "    #### 3 Hidden layers, each using relu activation function\n",
        "\n",
        "    hidden1 = tf.layers.dense(X, n_hidden1, name=\"hidden1\")\n",
        "    bn1 = tf.layers.batch_normalization(hidden1, training=training, momentum=0.9) \n",
        "    # Momentum of 0.9 is best known for optimization.\n",
        "    bn1Activation = tf.nn.relu(bn1)\n",
        "    \n",
        "    hidden2 = tf.layers.dense(bn1Activation, n_hidden2, name = \"hidden2\")\n",
        "    bn2 = tf.layers.batch_normalization(hidden2, training=training, momentum=0.9)\n",
        "    bn2Activation = tf.nn.relu(bn2)\n",
        "\n",
        "    hidden3 = tf.layers.dense(bn2Activation, n_hidden3, name = \"hidden3\")\n",
        "    bn3 = tf.layers.batch_normalization(hidden3, training = training, momentum = 0.9)\n",
        "    bn3Activation = tf.nn.relu(bn3)\n",
        "    logits_before_bn = tf.layers.dense(bn3Activation, n_outputs, name = \"outputs\") \n",
        "    \n",
        "    # NOTE:: logits are the nn outputs before classifying/ or activation layer\n",
        "    #logits = tf.nn.softmax(my_batch_norm_layer(logits_before_bn))\n",
        "\n",
        "with tf.name_scope(\"loss\"):\n",
        "    xentropy = tf.nn.sparse_softmax_cross_entropy_with_logits(labels = y, logits =logits_before_bn)\n",
        "    # \"labels\": vector must provide a single specific index for the true class\n",
        "    \n",
        "    # WARNING: This op expects unscaled logits, since it performs a softmax on logits internally for efficiency.\n",
        "    # Do not call this op with the output of softmax, as it will produce incorrect results.\n",
        "    loss = tf.reduce_mean(xentropy, name=\"loss\")\n",
        "    \n",
        "\n",
        "with tf.name_scope(\"train\"):\n",
        "    optimizer = tf.train.AdamOptimizer(learning_rate=0.05, epsilon=1e-06, use_locking=True,name='Adam')\n",
        "    training_op = optimizer.minimize(loss)\n",
        "\n",
        "with tf.name_scope(\"eval\"):\n",
        "    correct = tf.nn.in_top_k(logits_before_bn, y, 1)\n",
        "    accuracy = tf.reduce_mean(tf.cast(correct, tf.float32))"
      ],
      "execution_count": 6,
      "outputs": [
        {
          "output_type": "stream",
          "text": [
            "WARNING:tensorflow:\n",
            "The TensorFlow contrib module will not be included in TensorFlow 2.0.\n",
            "For more information, please see:\n",
            "  * https://github.com/tensorflow/community/blob/master/rfcs/20180907-contrib-sunset.md\n",
            "  * https://github.com/tensorflow/addons\n",
            "  * https://github.com/tensorflow/io (for I/O related ops)\n",
            "If you depend on functionality not listed there, please file an issue.\n",
            "\n",
            "WARNING:tensorflow:From <ipython-input-6-126cf996b037>:17: dense (from tensorflow.python.layers.core) is deprecated and will be removed in a future version.\n",
            "Instructions for updating:\n",
            "Use keras.layers.Dense instead.\n",
            "WARNING:tensorflow:From /usr/local/lib/python3.6/dist-packages/tensorflow_core/python/layers/core.py:187: Layer.apply (from tensorflow.python.keras.engine.base_layer) is deprecated and will be removed in a future version.\n",
            "Instructions for updating:\n",
            "Please use `layer.__call__` method instead.\n",
            "WARNING:tensorflow:From <ipython-input-6-126cf996b037>:18: batch_normalization (from tensorflow.python.layers.normalization) is deprecated and will be removed in a future version.\n",
            "Instructions for updating:\n",
            "Use keras.layers.BatchNormalization instead.  In particular, `tf.control_dependencies(tf.GraphKeys.UPDATE_OPS)` should not be used (consult the `tf.keras.layers.batch_normalization` documentation).\n"
          ],
          "name": "stdout"
        }
      ]
    },
    {
      "cell_type": "code",
      "metadata": {
        "id": "CWxo4wQnPw4N",
        "colab_type": "code",
        "colab": {}
      },
      "source": [
        "init = tf.global_variables_initializer()      #initializes the tf.variable/constant/placeholders declared above\n",
        "#he_init = tf.contrib.layers.xavier_initializer()\n",
        "saver = tf.train.Saver()                      # helps to save the model and reuse later."
      ],
      "execution_count": 0,
      "outputs": []
    },
    {
      "cell_type": "code",
      "metadata": {
        "id": "K068ZEcRPw4S",
        "colab_type": "code",
        "colab": {
          "base_uri": "https://localhost:8080/",
          "height": 34
        },
        "outputId": "f91083c7-b0bb-4510-bbc8-c3ab8ad1c918"
      },
      "source": [
        "### Now load the data\n",
        "from keras.datasets import cifar10\n",
        "from keras.utils.np_utils import to_categorical\n",
        "\n",
        "\n",
        "(X_train, y_train), (X_test, y_test) = cifar10.load_data()"
      ],
      "execution_count": 8,
      "outputs": [
        {
          "output_type": "stream",
          "text": [
            "Using TensorFlow backend.\n"
          ],
          "name": "stderr"
        }
      ]
    },
    {
      "cell_type": "code",
      "metadata": {
        "id": "LNosMxnxPw4Z",
        "colab_type": "code",
        "colab": {
          "base_uri": "https://localhost:8080/",
          "height": 518
        },
        "outputId": "fa915687-fbd7-41f5-8a29-9ed64fde67bd"
      },
      "source": [
        "print(\"Shape of training data:\")\n",
        "print(X_train.shape)\n",
        "print(y_train.shape)\n",
        "print(\"Shape of test data:\")\n",
        "print(X_test.shape)\n",
        "print(y_test.shape)\n",
        "print(y_train[1])\n",
        "print(y_train[2])\n",
        "\n",
        "displayColor2(X_train[1],X_train[2])"
      ],
      "execution_count": 9,
      "outputs": [
        {
          "output_type": "stream",
          "text": [
            "Shape of training data:\n",
            "(50000, 32, 32, 3)\n",
            "(50000, 1)\n",
            "Shape of test data:\n",
            "(10000, 32, 32, 3)\n",
            "(10000, 1)\n",
            "[9]\n",
            "[9]\n"
          ],
          "name": "stdout"
        },
        {
          "output_type": "display_data",
          "data": {
            "image/png": "[encoded data removed]",
            "text/plain": [
              "<Figure size 1440x1440 with 2 Axes>"
            ]
          },
          "metadata": {
            "tags": []
          }
        }
      ]
    },
    {
      "cell_type": "code",
      "metadata": {
        "id": "NrlOBIGtfCQW",
        "colab_type": "code",
        "colab": {
          "base_uri": "https://localhost:8080/",
          "height": 52
        },
        "outputId": "38e3ec9e-9f80-4f9e-9611-eba082340f31"
      },
      "source": [
        "\n",
        "gray= cv2.cvtColor(X_train[7],cv2.COLOR_BGR2GRAY)\n",
        "sift = cv2.xfeatures2d.SIFT_create()\n",
        "#kp = sift.detect(gray,None)\n",
        "kp, des = sift.detectAndCompute(gray,None)\n",
        "#gb = Image.fromarray(X_train[1])\n",
        "img=cv2.drawKeypoints(gray,kp,outImage=np.array([]),flags=cv2.DRAW_MATCHES_FLAGS_DRAW_RICH_KEYPOINTS)\n",
        "#displayColor2(X_train[1],img)\n",
        "print(len(kp),len(des))\n",
        "print(len(des[1]))"
      ],
      "execution_count": 30,
      "outputs": [
        {
          "output_type": "stream",
          "text": [
            "11 11\n",
            "128\n"
          ],
          "name": "stdout"
        }
      ]
    },
    {
      "cell_type": "code",
      "metadata": {
        "id": "gUHw6YM5Pw4e",
        "colab_type": "code",
        "colab": {
          "base_uri": "https://localhost:8080/",
          "height": 416
        },
        "outputId": "89d5d1e7-4193-4ca1-ae40-152315f12be5"
      },
      "source": [
        "# Transforming label indices to one-hot encoded vectors \n",
        "\n",
        "## No need to convert to one hot now, we have done later in the code. \n",
        "## in tn.softmax_with_crossentropy_with_logits, the labels argument asks for the index of actual class. Therefore, we halt one\n",
        "## hot encoding as of now.\n",
        "\n",
        "#y_train = to_categorical(y_train, num_classes=10)\n",
        "#y_test = to_categorical(y_test, num_classes=10)\n",
        "\n",
        "# Transforming images from (32,32,3) to a single vector of size (32*32*3) {32*32*3 = 3072}\n",
        "\n",
        "X_train = np.reshape(X_train,(50000,3072))\n",
        "X_test = np.reshape(X_test,(10000,3072))\n",
        "X_train = X_train.astype('float32')\n",
        "X_test = X_test.astype('float32')\n",
        "\n",
        "# Normalization of pixel values (to [0-1] range) # converting uint8 to double format\n",
        "\n",
        "X_train /= 255\n",
        "X_test /= 255"
      ],
      "execution_count": 16,
      "outputs": [
        {
          "output_type": "error",
          "ename": "ValueError",
          "evalue": "ignored",
          "traceback": [
            "\u001b[0;31m---------------------------------------------------------------------------\u001b[0m",
            "\u001b[0;31mValueError\u001b[0m                                Traceback (most recent call last)",
            "\u001b[0;32m<ipython-input-16-6e469be64588>\u001b[0m in \u001b[0;36m<module>\u001b[0;34m()\u001b[0m\n\u001b[1;32m      1\u001b[0m \u001b[0;34m\u001b[0m\u001b[0m\n\u001b[0;32m----> 2\u001b[0;31m \u001b[0mX_train\u001b[0m \u001b[0;34m=\u001b[0m \u001b[0mnp\u001b[0m\u001b[0;34m.\u001b[0m\u001b[0mreshape\u001b[0m\u001b[0;34m(\u001b[0m\u001b[0mX_train\u001b[0m\u001b[0;34m,\u001b[0m\u001b[0;34m(\u001b[0m\u001b[0;36m50000\u001b[0m\u001b[0;34m,\u001b[0m\u001b[0;36m3072\u001b[0m\u001b[0;34m)\u001b[0m\u001b[0;34m)\u001b[0m\u001b[0;34m\u001b[0m\u001b[0;34m\u001b[0m\u001b[0m\n\u001b[0m\u001b[1;32m      3\u001b[0m \u001b[0mX_test\u001b[0m \u001b[0;34m=\u001b[0m \u001b[0mnp\u001b[0m\u001b[0;34m.\u001b[0m\u001b[0mreshape\u001b[0m\u001b[0;34m(\u001b[0m\u001b[0mX_test\u001b[0m\u001b[0;34m,\u001b[0m\u001b[0;34m(\u001b[0m\u001b[0;36m10000\u001b[0m\u001b[0;34m,\u001b[0m\u001b[0;36m3072\u001b[0m\u001b[0;34m)\u001b[0m\u001b[0;34m)\u001b[0m\u001b[0;34m\u001b[0m\u001b[0;34m\u001b[0m\u001b[0m\n\u001b[1;32m      4\u001b[0m \u001b[0mX_train\u001b[0m \u001b[0;34m=\u001b[0m \u001b[0mX_train\u001b[0m\u001b[0;34m.\u001b[0m\u001b[0mastype\u001b[0m\u001b[0;34m(\u001b[0m\u001b[0;34m'float32'\u001b[0m\u001b[0;34m)\u001b[0m\u001b[0;34m\u001b[0m\u001b[0;34m\u001b[0m\u001b[0m\n\u001b[1;32m      5\u001b[0m \u001b[0mX_test\u001b[0m \u001b[0;34m=\u001b[0m \u001b[0mX_test\u001b[0m\u001b[0;34m.\u001b[0m\u001b[0mastype\u001b[0m\u001b[0;34m(\u001b[0m\u001b[0;34m'float32'\u001b[0m\u001b[0;34m)\u001b[0m\u001b[0;34m\u001b[0m\u001b[0;34m\u001b[0m\u001b[0m\n",
            "\u001b[0;32m<__array_function__ internals>\u001b[0m in \u001b[0;36mreshape\u001b[0;34m(*args, **kwargs)\u001b[0m\n",
            "\u001b[0;32m/usr/local/lib/python3.6/dist-packages/numpy/core/fromnumeric.py\u001b[0m in \u001b[0;36mreshape\u001b[0;34m(a, newshape, order)\u001b[0m\n\u001b[1;32m    299\u001b[0m            [5, 6]])\n\u001b[1;32m    300\u001b[0m     \"\"\"\n\u001b[0;32m--> 301\u001b[0;31m     \u001b[0;32mreturn\u001b[0m \u001b[0m_wrapfunc\u001b[0m\u001b[0;34m(\u001b[0m\u001b[0ma\u001b[0m\u001b[0;34m,\u001b[0m \u001b[0;34m'reshape'\u001b[0m\u001b[0;34m,\u001b[0m \u001b[0mnewshape\u001b[0m\u001b[0;34m,\u001b[0m \u001b[0morder\u001b[0m\u001b[0;34m=\u001b[0m\u001b[0morder\u001b[0m\u001b[0;34m)\u001b[0m\u001b[0;34m\u001b[0m\u001b[0;34m\u001b[0m\u001b[0m\n\u001b[0m\u001b[1;32m    302\u001b[0m \u001b[0;34m\u001b[0m\u001b[0m\n\u001b[1;32m    303\u001b[0m \u001b[0;34m\u001b[0m\u001b[0m\n",
            "\u001b[0;32m/usr/local/lib/python3.6/dist-packages/numpy/core/fromnumeric.py\u001b[0m in \u001b[0;36m_wrapfunc\u001b[0;34m(obj, method, *args, **kwds)\u001b[0m\n\u001b[1;32m     59\u001b[0m \u001b[0;34m\u001b[0m\u001b[0m\n\u001b[1;32m     60\u001b[0m     \u001b[0;32mtry\u001b[0m\u001b[0;34m:\u001b[0m\u001b[0;34m\u001b[0m\u001b[0;34m\u001b[0m\u001b[0m\n\u001b[0;32m---> 61\u001b[0;31m         \u001b[0;32mreturn\u001b[0m \u001b[0mbound\u001b[0m\u001b[0;34m(\u001b[0m\u001b[0;34m*\u001b[0m\u001b[0margs\u001b[0m\u001b[0;34m,\u001b[0m \u001b[0;34m**\u001b[0m\u001b[0mkwds\u001b[0m\u001b[0;34m)\u001b[0m\u001b[0;34m\u001b[0m\u001b[0;34m\u001b[0m\u001b[0m\n\u001b[0m\u001b[1;32m     62\u001b[0m     \u001b[0;32mexcept\u001b[0m \u001b[0mTypeError\u001b[0m\u001b[0;34m:\u001b[0m\u001b[0;34m\u001b[0m\u001b[0;34m\u001b[0m\u001b[0m\n\u001b[1;32m     63\u001b[0m         \u001b[0;31m# A TypeError occurs if the object does have such a method in its\u001b[0m\u001b[0;34m\u001b[0m\u001b[0;34m\u001b[0m\u001b[0;34m\u001b[0m\u001b[0m\n",
            "\u001b[0;31mValueError\u001b[0m: cannot reshape array of size 138240000 into shape (50000,3072)"
          ]
        }
      ]
    },
    {
      "cell_type": "code",
      "metadata": {
        "id": "KIpKZUxXPw4m",
        "colab_type": "code",
        "colab": {}
      },
      "source": [
        "# Now divide the test and train datasets into 3 parts, training set, validation set, and testing set\n",
        "# Considering the validation set to have 5000 images\n",
        "X_valid, X_train = X_train[:5000], X_train[5000:]\n",
        "y_valid, y_train = y_train[:5000], y_train[5000:]"
      ],
      "execution_count": 0,
      "outputs": []
    },
    {
      "cell_type": "code",
      "metadata": {
        "id": "etFFk6NzPw4v",
        "colab_type": "code",
        "colab": {
          "base_uri": "https://localhost:8080/",
          "height": 69
        },
        "outputId": "b46db7ef-ca54-4f0f-8057-074b0c0f071e"
      },
      "source": [
        "print(X_train.shape, y_train.shape)     #Just to have a clear idea of the training/ validation/testing shapes of tensors\n",
        "print(X_valid.shape, y_valid.shape)\n",
        "print(X_test.shape, y_test.shape)"
      ],
      "execution_count": 16,
      "outputs": [
        {
          "output_type": "stream",
          "text": [
            "(45000, 3072) (45000, 1)\n",
            "(5000, 3072) (5000, 1)\n",
            "(10000, 3072) (10000, 1)\n"
          ],
          "name": "stdout"
        }
      ]
    },
    {
      "cell_type": "code",
      "metadata": {
        "id": "-tdYOeQhPw4z",
        "colab_type": "code",
        "colab": {}
      },
      "source": [
        "n_epochs = 25\n",
        "batch_size = 6000 \n",
        "# If batch size is less like 100 or so, acc will fluctuate like 44% 20% 55% etc erratically due to underfitting nature\n",
        "\n",
        "# A function to shuffle the whole data set and select different batches randomly with replacement.\n",
        "def shuffle_batch(X, y, batch_size):\n",
        "    rnd_idx = np.random.permutation(len(X))\n",
        "    n_batches = len(X) // batch_size\n",
        "    for batch_idx in np.array_split(rnd_idx, n_batches):\n",
        "        X_batch, y_batch = X[batch_idx], y[batch_idx]\n",
        "        yield X_batch, y_batch                         # returns the first batch that was formed.\n",
        "        \n",
        "# Yeild is similar to return, the fun or loop runs untill it hits yeild, then what ever the first value of that variable is,\n",
        "# at that moment, it gets returned, and the loop continues."
      ],
      "execution_count": 0,
      "outputs": []
    },
    {
      "cell_type": "code",
      "metadata": {
        "id": "hmMbGXNhPw44",
        "colab_type": "code",
        "colab": {
          "base_uri": "https://localhost:8080/",
          "height": 451
        },
        "outputId": "228bf2b8-3266-48a4-8545-d940904b2dba"
      },
      "source": [
        "# Now lets test the model with the built model on Validation Set\n",
        "\n",
        "extra_update_ops = tf.get_collection(tf.GraphKeys.UPDATE_OPS)\n",
        "# tf.get_collection(), which can find some tensor that you want,\n",
        "# UPDATE_OPS is a collection of ops (operations performed when the graph runs, like multiplication, ReLU, etc.), not variables. \n",
        "#y = tf.placeholder(tf.int32, shape=(None,10), name=\"y\")\n",
        "\n",
        "with tf.Session() as sess:\n",
        "    init.run()\n",
        "    for epoch in range(n_epochs):\n",
        "        for X_batch, y_batch in shuffle_batch(X_train, y_train, batch_size):\n",
        "            sess.run([training_op, extra_update_ops],\n",
        "                     feed_dict={training: True, X: X_batch, y: y_batch.reshape([-1])})\n",
        "        accuracy_val = accuracy.eval(feed_dict={X: X_valid, y: y_valid.reshape([-1])})\n",
        "        print(epoch, \"Validation accuracy:\", accuracy_val)\n",
        "        "
      ],
      "execution_count": 18,
      "outputs": [
        {
          "output_type": "stream",
          "text": [
            "0 Validation accuracy: 0.104\n",
            "1 Validation accuracy: 0.092\n",
            "2 Validation accuracy: 0.092\n",
            "3 Validation accuracy: 0.1364\n",
            "4 Validation accuracy: 0.1518\n",
            "5 Validation accuracy: 0.1346\n",
            "6 Validation accuracy: 0.1614\n",
            "7 Validation accuracy: 0.1096\n",
            "8 Validation accuracy: 0.0972\n",
            "9 Validation accuracy: 0.092\n",
            "10 Validation accuracy: 0.092\n",
            "11 Validation accuracy: 0.092\n",
            "12 Validation accuracy: 0.092\n",
            "13 Validation accuracy: 0.092\n",
            "14 Validation accuracy: 0.092\n",
            "15 Validation accuracy: 0.092\n",
            "16 Validation accuracy: 0.092\n",
            "17 Validation accuracy: 0.0972\n",
            "18 Validation accuracy: 0.092\n",
            "19 Validation accuracy: 0.092\n",
            "20 Validation accuracy: 0.092\n",
            "21 Validation accuracy: 0.11\n",
            "22 Validation accuracy: 0.092\n",
            "23 Validation accuracy: 0.092\n",
            "24 Validation accuracy: 0.096\n"
          ],
          "name": "stdout"
        }
      ]
    },
    {
      "cell_type": "code",
      "metadata": {
        "id": "9ok1tEBIPw4-",
        "colab_type": "code",
        "colab": {
          "base_uri": "https://localhost:8080/",
          "height": 243
        },
        "outputId": "26c47373-f3e6-4ea3-c98f-3fd18dfaf25f"
      },
      "source": [
        "# Once accuracy over validation set is satisfactory, test the results on test set\n",
        "\n",
        "n_epochs = 25\n",
        "batch_size = 5000\n",
        "\n",
        "with tf.Session() as sess:\n",
        "    init.run()\n",
        "\n",
        "    for epoch in range(n_epochs):\n",
        "        for X_batch, y_batch in shuffle_batch(X_train, y_train, batch_size):\n",
        "            sess.run([training_op, extra_update_ops],\n",
        "                     feed_dict={training: True, X: X_batch, y: y_batch.reshape([-1])})\n",
        "        if epoch % 2 == 0:\n",
        "            accuracy_val = accuracy.eval(feed_dict={X: X_test, y: y_test.reshape([-1])})\n",
        "            print(epoch, \"TestSet accuracy:\", accuracy_val)\n",
        "\n",
        "    save_path = saver.save(sess, \"./my_cifar10_model_final.ckpt\")\n"
      ],
      "execution_count": 19,
      "outputs": [
        {
          "output_type": "stream",
          "text": [
            "0 TestSet accuracy: 0.1\n",
            "2 TestSet accuracy: 0.1\n",
            "4 TestSet accuracy: 0.1\n",
            "6 TestSet accuracy: 0.1108\n",
            "8 TestSet accuracy: 0.1\n",
            "10 TestSet accuracy: 0.1\n",
            "12 TestSet accuracy: 0.1357\n",
            "14 TestSet accuracy: 0.1008\n",
            "16 TestSet accuracy: 0.1\n",
            "18 TestSet accuracy: 0.1\n",
            "20 TestSet accuracy: 0.1\n",
            "22 TestSet accuracy: 0.1\n",
            "24 TestSet accuracy: 0.1\n"
          ],
          "name": "stdout"
        }
      ]
    },
    {
      "cell_type": "code",
      "metadata": {
        "id": "LeLao19_Pw5C",
        "colab_type": "code",
        "colab": {}
      },
      "source": [
        ""
      ],
      "execution_count": 0,
      "outputs": []
    },
    {
      "cell_type": "code",
      "metadata": {
        "id": "QmDEEjsoPw5G",
        "colab_type": "code",
        "colab": {}
      },
      "source": [
        "\n"
      ],
      "execution_count": 0,
      "outputs": []
    },
    {
      "cell_type": "code",
      "metadata": {
        "id": "dbPZj2kXPw5M",
        "colab_type": "code",
        "colab": {}
      },
      "source": [
        ""
      ],
      "execution_count": 0,
      "outputs": []
    },
    {
      "cell_type": "code",
      "metadata": {
        "id": "eEV5XqeIPw5Q",
        "colab_type": "code",
        "colab": {}
      },
      "source": [
        ""
      ],
      "execution_count": 0,
      "outputs": []
    },
    {
      "cell_type": "code",
      "metadata": {
        "id": "IGLLYSCLPw5V",
        "colab_type": "code",
        "colab": {}
      },
      "source": [
        ""
      ],
      "execution_count": 0,
      "outputs": []
    },
    {
      "cell_type": "code",
      "metadata": {
        "id": "I37Vb9_WPw5a",
        "colab_type": "code",
        "colab": {}
      },
      "source": [
        ""
      ],
      "execution_count": 0,
      "outputs": []
    },
    {
      "cell_type": "code",
      "metadata": {
        "id": "neBS6mFAPw5e",
        "colab_type": "code",
        "colab": {}
      },
      "source": [
        ""
      ],
      "execution_count": 0,
      "outputs": []
    },
    {
      "cell_type": "code",
      "metadata": {
        "id": "F6O-hiuxPw5k",
        "colab_type": "code",
        "colab": {}
      },
      "source": [
        ""
      ],
      "execution_count": 0,
      "outputs": []
    },
    {
      "cell_type": "code",
      "metadata": {
        "id": "bE5o96B2Pw5o",
        "colab_type": "code",
        "colab": {}
      },
      "source": [
        ""
      ],
      "execution_count": 0,
      "outputs": []
    },
    {
      "cell_type": "code",
      "metadata": {
        "id": "RR43IugGPw5t",
        "colab_type": "code",
        "colab": {}
      },
      "source": [
        ""
      ],
      "execution_count": 0,
      "outputs": []
    },
    {
      "cell_type": "code",
      "metadata": {
        "id": "BMCXlBPhPw5w",
        "colab_type": "code",
        "colab": {}
      },
      "source": [
        "\n"
      ],
      "execution_count": 0,
      "outputs": []
    },
    {
      "cell_type": "code",
      "metadata": {
        "id": "NxwjMmHNPw5z",
        "colab_type": "code",
        "colab": {}
      },
      "source": [
        ""
      ],
      "execution_count": 0,
      "outputs": []
    },
    {
      "cell_type": "code",
      "metadata": {
        "id": "zOkkbAOvPw54",
        "colab_type": "code",
        "colab": {}
      },
      "source": [
        ""
      ],
      "execution_count": 0,
      "outputs": []
    }
  ]
}