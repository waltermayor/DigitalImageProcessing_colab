{
  "nbformat": 4,
  "nbformat_minor": 0,
  "metadata": {
    "colab": {
      "name": "clase6_espacial_filters",
      "provenance": [],
      "include_colab_link": true
    },
    "kernelspec": {
      "name": "python3",
      "display_name": "Python 3"
    }
  },
  "cells": [
    {
      "cell_type": "markdown",
      "metadata": {
        "id": "view-in-github",
        "colab_type": "text"
      },
      "source": [
        "<a href=\"https://colab.research.google.com/github/waltermayor/DigitalImageProcessing_colab/blob/master/clase6_espacial_filters.ipynb\" target=\"_parent\"><img src=\"https://colab.research.google.com/assets/colab-badge.svg\" alt=\"Open In Colab\"/></a>"
      ]
    },
    {
      "cell_type": "code",
      "metadata": {
        "id": "eUZmYiX9MiF4",
        "colab_type": "code",
        "colab": {}
      },
      "source": [
        "from google.colab import drive\n",
        "drive.mount('/content/drive')\n",
        "\n",
        "\n",
        "import numpy as np\n",
        "import matplotlib.pyplot as plt\n",
        "import cv2\n",
        "import os\n",
        "\n",
        "path='/content/drive/My Drive/colab/images/'\n",
        "os.chdir(path)\n",
        "!pwd\n",
        "\n",
        "# graficar imagenes estaticas en el notebook\n",
        "%matplotlib inline"
      ],
      "execution_count": 0,
      "outputs": []
    },
    {
      "cell_type": "code",
      "metadata": {
        "id": "GwghfSGdMkVP",
        "colab_type": "code",
        "colab": {}
      },
      "source": [
        "def displayGray2(a, b,title1 = \"Original\", title2 = \"Edited\"):\n",
        "    plt.figure(figsize=(20,20))\n",
        "    plt.subplot(121), plt.imshow(a,cmap='gray'), plt.title(title1)\n",
        "    plt.xticks([]), plt.yticks([])\n",
        "    plt.subplot(122), plt.imshow(b,cmap='gray'), plt.title(title2)\n",
        "    plt.xticks([]), plt.yticks([])\n",
        "    plt.show()"
      ],
      "execution_count": 0,
      "outputs": []
    },
    {
      "cell_type": "markdown",
      "metadata": {
        "id": "NHf4aXtMEsz1",
        "colab_type": "text"
      },
      "source": [
        "# **Median Filter**"
      ]
    },
    {
      "cell_type": "code",
      "metadata": {
        "id": "POWZ6e0Z7v77",
        "colab_type": "code",
        "colab": {}
      },
      "source": [
        "# read the image\n",
        "img = cv2.imread(args['image'])\n",
        "# apply the 3x3 median filter on the image\n",
        "median = cv2.medianBlur(img, 3)\n",
        "\n",
        "# display image\n",
        "\n",
        "displayGray2(img,median)\n"
      ],
      "execution_count": 0,
      "outputs": []
    },
    {
      "cell_type": "markdown",
      "metadata": {
        "id": "9GQYi3b9OJ_8",
        "colab_type": "text"
      },
      "source": [
        "# **GaussianBlur**"
      ]
    },
    {
      "cell_type": "code",
      "metadata": {
        "id": "3K3fAl38M402",
        "colab_type": "code",
        "colab": {}
      },
      "source": [
        "# read the image\n",
        "img = cv2.imread(args['image'])\n",
        "# apply the 3x3 median filter on the image\n",
        "gauss = cv.GaussianBlur(img,(5,5),0)\n",
        "\n",
        "# display image\n",
        "displayGray2(img,gauss)"
      ],
      "execution_count": 0,
      "outputs": []
    },
    {
      "cell_type": "markdown",
      "metadata": {
        "id": "pqMz8QIQON98",
        "colab_type": "text"
      },
      "source": [
        "# **Bilateral Filter**"
      ]
    },
    {
      "cell_type": "code",
      "metadata": {
        "id": "lyb1bNvGNh0l",
        "colab_type": "code",
        "colab": {}
      },
      "source": [
        "# read the image\n",
        "img = cv2.imread(args['image'])\n",
        "# apply the 3x3 median filter on the image\n",
        "bilateral = cv.bilateralFilter(img,9,75,75)\n",
        "\n",
        "# display image\n",
        "displayGray2(img,bilateral)"
      ],
      "execution_count": 0,
      "outputs": []
    }
  ]
}