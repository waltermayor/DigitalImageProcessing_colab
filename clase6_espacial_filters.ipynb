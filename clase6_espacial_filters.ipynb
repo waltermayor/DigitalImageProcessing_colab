{
  "nbformat": 4,
  "nbformat_minor": 0,
  "metadata": {
    "colab": {
      "name": "clase6_espacial_filters",
      "provenance": [],
      "include_colab_link": true
    },
    "kernelspec": {
      "name": "python3",
      "display_name": "Python 3"
    }
  },
  "cells": [
    {
      "cell_type": "markdown",
      "metadata": {
        "id": "view-in-github",
        "colab_type": "text"
      },
      "source": [
        "<a href=\"https://colab.research.google.com/github/waltermayor/DigitalImageProcessing_colab/blob/master/clase6_espacial_filters.ipynb\" target=\"_parent\"><img src=\"https://colab.research.google.com/assets/colab-badge.svg\" alt=\"Open In Colab\"/></a>"
      ]
    },
    {
      "cell_type": "code",
      "metadata": {
        "id": "eUZmYiX9MiF4",
        "colab_type": "code",
        "colab": {}
      },
      "source": [
        "from google.colab import drive\n",
        "drive.mount('/content/drive')\n",
        "\n",
        "\n",
        "import numpy as np\n",
        "import matplotlib.pyplot as plt\n",
        "import cv2\n",
        "import os\n",
        "\n",
        "path='/content/drive/My Drive/colab/images/'\n",
        "os.chdir(path)\n",
        "!pwd\n",
        "\n",
        "# graficar imagenes estaticas en el notebook\n",
        "%matplotlib inline"
      ],
      "execution_count": 0,
      "outputs": []
    },
    {
      "cell_type": "code",
      "metadata": {
        "id": "GwghfSGdMkVP",
        "colab_type": "code",
        "colab": {}
      },
      "source": [
        "def displayGray2(a, b,title1 = \"Original\", title2 = \"Edited\"):\n",
        "    plt.figure(figsize=(20,20))\n",
        "    plt.subplot(121), plt.imshow(a,cmap='gray'), plt.title(title1)\n",
        "    plt.xticks([]), plt.yticks([])\n",
        "    plt.subplot(122), plt.imshow(b,cmap='gray'), plt.title(title2)\n",
        "    plt.xticks([]), plt.yticks([])\n",
        "    plt.show()"
      ],
      "execution_count": 0,
      "outputs": []
    },
    {
      "cell_type": "markdown",
      "metadata": {
        "id": "NHf4aXtMEsz1",
        "colab_type": "text"
      },
      "source": [
        "# **Median Filter**"
      ]
    },
    {
      "cell_type": "code",
      "metadata": {
        "id": "POWZ6e0Z7v77",
        "colab_type": "code",
        "colab": {}
      },
      "source": [
        "# read the image\n",
        "img = cv2.imread(args['image'])\n",
        "# apply the 3x3 median filter on the image\n",
        "median = cv2.medianBlur(img, 3)\n",
        "\n",
        "# display image\n",
        "\n",
        "displayGray2(img,median)\n"
      ],
      "execution_count": 0,
      "outputs": []
    },
    {
      "cell_type": "markdown",
      "metadata": {
        "id": "9GQYi3b9OJ_8",
        "colab_type": "text"
      },
      "source": [
        "# **GaussianBlur**"
      ]
    },
    {
      "cell_type": "code",
      "metadata": {
        "id": "3K3fAl38M402",
        "colab_type": "code",
        "colab": {}
      },
      "source": [
        "# read the image\n",
        "img = cv2.imread(args['image'])\n",
        "# apply the 3x3 median filter on the image\n",
        "gauss = cv.GaussianBlur(img,(5,5),0)\n",
        "\n",
        "# display image\n",
        "displayGray2(img,gauss)"
      ],
      "execution_count": 0,
      "outputs": []
    },
    {
      "cell_type": "markdown",
      "metadata": {
        "id": "pqMz8QIQON98",
        "colab_type": "text"
      },
      "source": [
        "# **Bilateral Filter**"
      ]
    },
    {
      "cell_type": "code",
      "metadata": {
        "id": "lyb1bNvGNh0l",
        "colab_type": "code",
        "colab": {}
      },
      "source": [
        "# read the image\n",
        "img = cv2.imread(args['image'])\n",
        "# apply the 3x3 median filter on the image\n",
        "bilateral = cv.bilateralFilter(img,9,75,75)\n",
        "\n",
        "# display image\n",
        "displayGray2(img,bilateral)"
      ],
      "execution_count": 0,
      "outputs": []
    },
    {
      "cell_type": "markdown",
      "metadata": {
        "id": "rV6CHP-wWNoe",
        "colab_type": "text"
      },
      "source": [
        "# **sharpened filter**\n",
        "\n",
        "\n",
        "\n"
      ]
    },
    {
      "cell_type": "code",
      "metadata": {
        "id": "NEUNaBCyWN21",
        "colab_type": "code",
        "colab": {}
      },
      "source": [
        "# Reading in and displaying our image\n",
        "img = cv2.imread('images/input.jpg')\n",
        "\n",
        "# Create our shapening kernel, it must equal to one eventually\n",
        "kernel_sharpening = np.array([[-1,-1,-1], \n",
        "                              [-1, 9,-1],\n",
        "                              [-1,-1,-1]])\n",
        "# applying the sharpening kernel to the input image & displaying it.\n",
        "sharpened = cv2.filter2D(image, -1, kernel_sharpening)\n",
        "displayGray2(img,sharpened)"
      ],
      "execution_count": 0,
      "outputs": []
    },
    {
      "cell_type": "markdown",
      "metadata": {
        "id": "ATlf4Yi2XzrS",
        "colab_type": "text"
      },
      "source": [
        "# **laplacian**"
      ]
    },
    {
      "cell_type": "code",
      "metadata": {
        "id": "r3Cd3nncXwyh",
        "colab_type": "code",
        "colab": {}
      },
      "source": [
        "# read the image\n",
        "img = cv2.imread(args['image'])\n",
        "# apply the 3x3 median filter on the image\n",
        "\n",
        "# laplacian \n",
        "lapl = cv2.Laplacian(img,cv2.CV_64F, ksize=5)\n",
        "\n",
        "# display image\n",
        "displayGray2(img,lapl)"
      ],
      "execution_count": 0,
      "outputs": []
    },
    {
      "cell_type": "code",
      "metadata": {
        "id": "X1kiU7pNbXhz",
        "colab_type": "code",
        "colab": {}
      },
      "source": [
        "# read the image\n",
        "img = cv2.imread(args['image'])\n",
        "# apply the 3x3 median filter on the image\n",
        "blur = cv2.GaussianBlur(img,(5,5),0)\n",
        "# laplacian of gaussian\n",
        "log = cv2.Laplacian(blur,cv2.CV_64F, ksize=5)\n",
        "\n",
        "# display image\n",
        "displayGray2(img,log)"
      ],
      "execution_count": 0,
      "outputs": []
    },
    {
      "cell_type": "code",
      "metadata": {
        "id": "kB0PC_7Rbo_z",
        "colab_type": "code",
        "colab": {}
      },
      "source": [
        "img = cv2.imread('flor.png')\n",
        "\n",
        "kernel = np.array([[0,1,0],[1,-4,1],[0,1,0]],np.float32)\n",
        "dst = cv2.filter2D(img,-1,kernel)\n",
        "\n",
        "displayColor2(img,dst,\"original\",\"averaging\")"
      ],
      "execution_count": 0,
      "outputs": []
    },
    {
      "cell_type": "code",
      "metadata": {
        "id": "TYmjq9qzcJ1j",
        "colab_type": "code",
        "colab": {}
      },
      "source": [
        "img = cv2.imread('flor.png')\n",
        "\n",
        "kernel = np.array([[0,-1,0],[-1,4,-1],[0,-1,0]],np.float32)\n",
        "dst = cv2.filter2D(img,-1,kernel)\n",
        "\n",
        "displayColor2(img,dst,\"original\",\"averaging\")"
      ],
      "execution_count": 0,
      "outputs": []
    },
    {
      "cell_type": "code",
      "metadata": {
        "id": "6ROHbcRmcRSU",
        "colab_type": "code",
        "colab": {}
      },
      "source": [
        "img = cv2.imread('flor.png')\n",
        "\n",
        "kernel = np.array([[1,1,1],[1,-8,1],[1,1,1]],np.float32)\n",
        "dst = cv2.filter2D(img,-1,kernel)\n",
        "\n",
        "displayColor2(img,dst,\"original\",\"averaging\")"
      ],
      "execution_count": 0,
      "outputs": []
    },
    {
      "cell_type": "code",
      "metadata": {
        "id": "VfEJS7tDccTy",
        "colab_type": "code",
        "colab": {}
      },
      "source": [
        "img = cv2.imread('flor.png')\n",
        "\n",
        "kernel = np.array([[-1,-1,-1],[-1,8,-1],[-1,-1,-1]],np.float32)\n",
        "dst = cv2.filter2D(img,-1,kernel)\n",
        "\n",
        "displayColor2(img,dst,\"original\",\"averaging\")"
      ],
      "execution_count": 0,
      "outputs": []
    },
    {
      "cell_type": "code",
      "metadata": {
        "id": "GDf8jV3UYm6Q",
        "colab_type": "code",
        "colab": {}
      },
      "source": [
        "#x_sobel = cv2.Sobel(img,cv2.CV_64F,1,0,ksize=5)\n",
        "\n",
        "#y_sobel = cv2.Sobel(img,cv2.CV_64F,0,1,ksize=5)"
      ],
      "execution_count": 0,
      "outputs": []
    }
  ]
}