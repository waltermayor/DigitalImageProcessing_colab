{
  "nbformat": 4,
  "nbformat_minor": 0,
  "metadata": {
    "colab": {
      "name": "PCAejemplo.ipynb",
      "provenance": [],
      "authorship_tag": "ABX9TyM3ahtunY9gIlmX7eoLBDS/",
      "include_colab_link": true
    },
    "kernelspec": {
      "name": "python3",
      "display_name": "Python 3"
    }
  },
  "cells": [
    {
      "cell_type": "markdown",
      "metadata": {
        "id": "view-in-github",
        "colab_type": "text"
      },
      "source": [
        "<a href=\"https://colab.research.google.com/github/waltermayor/DigitalImageProcessing_colab/blob/master/PCAejemplo.ipynb\" target=\"_parent\"><img src=\"https://colab.research.google.com/assets/colab-badge.svg\" alt=\"Open In Colab\"/></a>"
      ]
    },
    {
      "cell_type": "markdown",
      "metadata": {
        "id": "04553eYyq4c6",
        "colab_type": "text"
      },
      "source": [
        "### **1 Cargar los datos y librerias**"
      ]
    },
    {
      "cell_type": "code",
      "metadata": {
        "id": "zCChy95AcB1t",
        "colab_type": "code",
        "colab": {
          "base_uri": "https://localhost:8080/",
          "height": 263
        },
        "outputId": "df377831-ebfa-4849-dc48-d71f6f1fabfb"
      },
      "source": [
        "#!pip install plotly\n",
        "!pip install chart-studio"
      ],
      "execution_count": 9,
      "outputs": [
        {
          "output_type": "stream",
          "text": [
            "Collecting chart-studio\n",
            "\u001b[?25l  Downloading https://files.pythonhosted.org/packages/ca/ce/330794a6b6ca4b9182c38fc69dd2a9cbff60fd49421cb8648ee5fee352dc/chart_studio-1.1.0-py3-none-any.whl (64kB)\n",
            "\r\u001b[K     |█████                           | 10kB 15.7MB/s eta 0:00:01\r\u001b[K     |██████████▏                     | 20kB 1.6MB/s eta 0:00:01\r\u001b[K     |███████████████▎                | 30kB 1.9MB/s eta 0:00:01\r\u001b[K     |████████████████████▍           | 40kB 2.1MB/s eta 0:00:01\r\u001b[K     |█████████████████████████▍      | 51kB 2.0MB/s eta 0:00:01\r\u001b[K     |██████████████████████████████▌ | 61kB 2.2MB/s eta 0:00:01\r\u001b[K     |████████████████████████████████| 71kB 2.1MB/s \n",
            "\u001b[?25hRequirement already satisfied: plotly in /usr/local/lib/python3.6/dist-packages (from chart-studio) (4.4.1)\n",
            "Requirement already satisfied: six in /usr/local/lib/python3.6/dist-packages (from chart-studio) (1.12.0)\n",
            "Requirement already satisfied: requests in /usr/local/lib/python3.6/dist-packages (from chart-studio) (2.23.0)\n",
            "Requirement already satisfied: retrying>=1.3.3 in /usr/local/lib/python3.6/dist-packages (from chart-studio) (1.3.3)\n",
            "Requirement already satisfied: certifi>=2017.4.17 in /usr/local/lib/python3.6/dist-packages (from requests->chart-studio) (2020.4.5.1)\n",
            "Requirement already satisfied: urllib3!=1.25.0,!=1.25.1,<1.26,>=1.21.1 in /usr/local/lib/python3.6/dist-packages (from requests->chart-studio) (1.24.3)\n",
            "Requirement already satisfied: idna<3,>=2.5 in /usr/local/lib/python3.6/dist-packages (from requests->chart-studio) (2.9)\n",
            "Requirement already satisfied: chardet<4,>=3.0.2 in /usr/local/lib/python3.6/dist-packages (from requests->chart-studio) (3.0.4)\n",
            "Installing collected packages: chart-studio\n",
            "Successfully installed chart-studio-1.1.0\n"
          ],
          "name": "stdout"
        }
      ]
    },
    {
      "cell_type": "code",
      "metadata": {
        "id": "i8UxVlT0qzBW",
        "colab_type": "code",
        "outputId": "4bb6a38c-03f1-4581-f88a-677ceb4c4782",
        "colab": {
          "base_uri": "https://localhost:8080/",
          "height": 206
        }
      },
      "source": [
        "import pandas as pd\n",
        "import numpy as np\n",
        "import matplotlib.pyplot as plt\n",
        "from sklearn.decomposition import PCA\n",
        "from sklearn.preprocessing import StandardScaler\n",
        "%matplotlib inline\n",
        "\n",
        "url = \"https://archive.ics.uci.edu/ml/machine-learning-databases/iris/iris.data\"\n",
        "\n",
        "\n",
        "df = pd.read_csv(url, names=['lng sepalo','anch sepalo','lng petalo','anch petalo','especie'])\n",
        "\n",
        "df.tail()"
      ],
      "execution_count": 2,
      "outputs": [
        {
          "output_type": "execute_result",
          "data": {
            "text/html": [
              "<div>\n",
              "<style scoped>\n",
              "    .dataframe tbody tr th:only-of-type {\n",
              "        vertical-align: middle;\n",
              "    }\n",
              "\n",
              "    .dataframe tbody tr th {\n",
              "        vertical-align: top;\n",
              "    }\n",
              "\n",
              "    .dataframe thead th {\n",
              "        text-align: right;\n",
              "    }\n",
              "</style>\n",
              "<table border=\"1\" class=\"dataframe\">\n",
              "  <thead>\n",
              "    <tr style=\"text-align: right;\">\n",
              "      <th></th>\n",
              "      <th>lng sepalo</th>\n",
              "      <th>anch sepalo</th>\n",
              "      <th>lng petalo</th>\n",
              "      <th>anch petalo</th>\n",
              "      <th>especie</th>\n",
              "    </tr>\n",
              "  </thead>\n",
              "  <tbody>\n",
              "    <tr>\n",
              "      <th>145</th>\n",
              "      <td>6.7</td>\n",
              "      <td>3.0</td>\n",
              "      <td>5.2</td>\n",
              "      <td>2.3</td>\n",
              "      <td>Iris-virginica</td>\n",
              "    </tr>\n",
              "    <tr>\n",
              "      <th>146</th>\n",
              "      <td>6.3</td>\n",
              "      <td>2.5</td>\n",
              "      <td>5.0</td>\n",
              "      <td>1.9</td>\n",
              "      <td>Iris-virginica</td>\n",
              "    </tr>\n",
              "    <tr>\n",
              "      <th>147</th>\n",
              "      <td>6.5</td>\n",
              "      <td>3.0</td>\n",
              "      <td>5.2</td>\n",
              "      <td>2.0</td>\n",
              "      <td>Iris-virginica</td>\n",
              "    </tr>\n",
              "    <tr>\n",
              "      <th>148</th>\n",
              "      <td>6.2</td>\n",
              "      <td>3.4</td>\n",
              "      <td>5.4</td>\n",
              "      <td>2.3</td>\n",
              "      <td>Iris-virginica</td>\n",
              "    </tr>\n",
              "    <tr>\n",
              "      <th>149</th>\n",
              "      <td>5.9</td>\n",
              "      <td>3.0</td>\n",
              "      <td>5.1</td>\n",
              "      <td>1.8</td>\n",
              "      <td>Iris-virginica</td>\n",
              "    </tr>\n",
              "  </tbody>\n",
              "</table>\n",
              "</div>"
            ],
            "text/plain": [
              "     lng sepalo  anch sepalo  lng petalo  anch petalo         especie\n",
              "145         6.7          3.0         5.2          2.3  Iris-virginica\n",
              "146         6.3          2.5         5.0          1.9  Iris-virginica\n",
              "147         6.5          3.0         5.2          2.0  Iris-virginica\n",
              "148         6.2          3.4         5.4          2.3  Iris-virginica\n",
              "149         5.9          3.0         5.1          1.8  Iris-virginica"
            ]
          },
          "metadata": {
            "tags": []
          },
          "execution_count": 2
        }
      ]
    },
    {
      "cell_type": "markdown",
      "metadata": {
        "id": "PU1tgpC8rI8u",
        "colab_type": "text"
      },
      "source": [
        "Dividir los datos en 2 partes"
      ]
    },
    {
      "cell_type": "code",
      "metadata": {
        "id": "gNjCPGBarJSD",
        "colab_type": "code",
        "colab": {
          "base_uri": "https://localhost:8080/",
          "height": 312
        },
        "outputId": "38a8f085-0098-44d5-a73e-91da443da4e2"
      },
      "source": [
        "\n",
        "# Se divide la matriz del dataset en dos partes\n",
        "# la submatriz x contiene los valores de las primeras 4 columnas del dataframe y todas las filas\n",
        "X = df.iloc[:,0:4].values\n",
        "\n",
        "\n",
        "print(\"caracteristicas\")\n",
        "print(X[0:12])\n",
        "\n",
        "# El vector y contiene los valores de la 4 columna (especie)para todas las filas\n",
        "y = df.iloc[:,4].values\n",
        "\n",
        "print(\"variable objetivo\")\n",
        "print(y[0:12])\n",
        "\n",
        "\n"
      ],
      "execution_count": 5,
      "outputs": [
        {
          "output_type": "stream",
          "text": [
            "caracteristicas\n",
            "[[5.1 3.5 1.4 0.2]\n",
            " [4.9 3.  1.4 0.2]\n",
            " [4.7 3.2 1.3 0.2]\n",
            " [4.6 3.1 1.5 0.2]\n",
            " [5.  3.6 1.4 0.2]\n",
            " [5.4 3.9 1.7 0.4]\n",
            " [4.6 3.4 1.4 0.3]\n",
            " [5.  3.4 1.5 0.2]\n",
            " [4.4 2.9 1.4 0.2]\n",
            " [4.9 3.1 1.5 0.1]\n",
            " [5.4 3.7 1.5 0.2]\n",
            " [4.8 3.4 1.6 0.2]]\n",
            "variable objetivo\n",
            "['Iris-setosa' 'Iris-setosa' 'Iris-setosa' 'Iris-setosa' 'Iris-setosa'\n",
            " 'Iris-setosa' 'Iris-setosa' 'Iris-setosa' 'Iris-setosa' 'Iris-setosa'\n",
            " 'Iris-setosa' 'Iris-setosa']\n"
          ],
          "name": "stdout"
        }
      ]
    },
    {
      "cell_type": "code",
      "metadata": {
        "id": "SgRNUpPBg29p",
        "colab_type": "code",
        "colab": {
          "base_uri": "https://localhost:8080/",
          "height": 441
        },
        "outputId": "cabc0b2d-67cb-41f7-c20a-fa3e3837e960"
      },
      "source": [
        "from matplotlib import pyplot as plt\n",
        "import numpy as np\n",
        "import math\n",
        "\n",
        "label_dict = {1: 'Iris-Setosa',\n",
        "              2: 'Iris-Versicolor',\n",
        "              3: 'Iris-Virgnica'}\n",
        "\n",
        "feature_dict = {0: 'sepal length [cm]',\n",
        "                1: 'sepal width [cm]',\n",
        "                2: 'petal length [cm]',\n",
        "                3: 'petal width [cm]'}\n",
        "\n",
        "with plt.style.context('seaborn-whitegrid'):\n",
        "    plt.figure(figsize=(8, 6))\n",
        "    for cnt in range(4):\n",
        "        plt.subplot(2, 2, cnt+1)\n",
        "        for lab in ('Iris-setosa', 'Iris-versicolor', 'Iris-virginica'):\n",
        "            plt.hist(X[y==lab, cnt],\n",
        "                     label=lab,\n",
        "                     bins=10,\n",
        "                     alpha=0.3,)\n",
        "        plt.xlabel(feature_dict[cnt])\n",
        "    plt.legend(loc='upper right', fancybox=True, fontsize=8)\n",
        "\n",
        "    plt.tight_layout()\n",
        "    plt.show()\n"
      ],
      "execution_count": 13,
      "outputs": [
        {
          "output_type": "display_data",
          "data": {
            "image/png": "[encoded data removed]",
            "text/plain": [
              "<Figure size 576x432 with 4 Axes>"
            ]
          },
          "metadata": {
            "tags": []
          }
        }
      ]
    },
    {
      "cell_type": "markdown",
      "metadata": {
        "id": "v0A4cBDDr_vY",
        "colab_type": "text"
      },
      "source": [
        "## **2 Normalizar**\n",
        "\n"
      ]
    },
    {
      "cell_type": "code",
      "metadata": {
        "id": "h0ExUAR4r_-g",
        "colab_type": "code",
        "colab": {
          "base_uri": "https://localhost:8080/",
          "height": 225
        },
        "outputId": "4470aa37-c554-400e-9ab8-79b5fd95ea4b"
      },
      "source": [
        "#Aplicamos una transformación de los datos para poder aplicar las propiedades de la distribución normal\n",
        "\n",
        "from sklearn.preprocessing import StandardScaler\n",
        "X_std = StandardScaler().fit_transform(X)\n",
        "\n",
        "print(X_std[0:12])"
      ],
      "execution_count": 17,
      "outputs": [
        {
          "output_type": "stream",
          "text": [
            "[[-0.90068117  1.03205722 -1.3412724  -1.31297673]\n",
            " [-1.14301691 -0.1249576  -1.3412724  -1.31297673]\n",
            " [-1.38535265  0.33784833 -1.39813811 -1.31297673]\n",
            " [-1.50652052  0.10644536 -1.2844067  -1.31297673]\n",
            " [-1.02184904  1.26346019 -1.3412724  -1.31297673]\n",
            " [-0.53717756  1.95766909 -1.17067529 -1.05003079]\n",
            " [-1.50652052  0.80065426 -1.3412724  -1.18150376]\n",
            " [-1.02184904  0.80065426 -1.2844067  -1.31297673]\n",
            " [-1.74885626 -0.35636057 -1.3412724  -1.31297673]\n",
            " [-1.14301691  0.10644536 -1.2844067  -1.4444497 ]\n",
            " [-0.53717756  1.49486315 -1.2844067  -1.31297673]\n",
            " [-1.26418478  0.80065426 -1.227541   -1.31297673]]\n"
          ],
          "name": "stdout"
        }
      ]
    },
    {
      "cell_type": "markdown",
      "metadata": {
        "id": "-seXcNeisVBT",
        "colab_type": "text"
      },
      "source": [
        "## **3 Calcular Autovalores y Autovectores**"
      ]
    },
    {
      "cell_type": "markdown",
      "metadata": {
        "id": "eMviyjYwtGh8",
        "colab_type": "text"
      },
      "source": [
        "Matriz de covarianza"
      ]
    },
    {
      "cell_type": "code",
      "metadata": {
        "id": "0zqu41besVQj",
        "colab_type": "code",
        "outputId": "d5376829-c10a-4edf-aab5-ddd2346c06c1",
        "colab": {
          "base_uri": "https://localhost:8080/",
          "height": 104
        }
      },
      "source": [
        "cov_mat = np.cov(X_std.T)\n",
        "print('NumPy matriz de covarianza: \\n%s' %cov_mat)"
      ],
      "execution_count": 18,
      "outputs": [
        {
          "output_type": "stream",
          "text": [
            "NumPy matriz de covarianza: \n",
            "[[ 1.00671141 -0.11010327  0.87760486  0.82344326]\n",
            " [-0.11010327  1.00671141 -0.42333835 -0.358937  ]\n",
            " [ 0.87760486 -0.42333835  1.00671141  0.96921855]\n",
            " [ 0.82344326 -0.358937    0.96921855  1.00671141]]\n"
          ],
          "name": "stdout"
        }
      ]
    },
    {
      "cell_type": "markdown",
      "metadata": {
        "id": "F-NfHF7atE1c",
        "colab_type": "text"
      },
      "source": [
        "Calculamos los Autovalores y autovectores de la matriz de covarianza"
      ]
    },
    {
      "cell_type": "code",
      "metadata": {
        "id": "BRiBjcw2tFHe",
        "colab_type": "code",
        "outputId": "73334c7f-2a46-4df5-c15c-8b2be7a38cfe",
        "colab": {
          "base_uri": "https://localhost:8080/",
          "height": 156
        }
      },
      "source": [
        "eig_vals, eig_vecs = np.linalg.eig(cov_mat)\n",
        "\n",
        "print('Autovectores \\n%s' %eig_vecs)\n",
        "print('\\n Autovalores \\n%s' %eig_vals)"
      ],
      "execution_count": 19,
      "outputs": [
        {
          "output_type": "stream",
          "text": [
            "Autovectores \n",
            "[[ 0.52237162 -0.37231836 -0.72101681  0.26199559]\n",
            " [-0.26335492 -0.92555649  0.24203288 -0.12413481]\n",
            " [ 0.58125401 -0.02109478  0.14089226 -0.80115427]\n",
            " [ 0.56561105 -0.06541577  0.6338014   0.52354627]]\n",
            "\n",
            " Autovalores \n",
            "[2.93035378 0.92740362 0.14834223 0.02074601]\n"
          ],
          "name": "stdout"
        }
      ]
    },
    {
      "cell_type": "markdown",
      "metadata": {
        "id": "O5APz2aeq3B6",
        "colab_type": "text"
      },
      "source": [
        "Singular Vector Descomposition (computacionalmente mas eficiente)"
      ]
    },
    {
      "cell_type": "code",
      "metadata": {
        "id": "4EqAoWw9q3OO",
        "colab_type": "code",
        "colab": {
          "base_uri": "https://localhost:8080/",
          "height": 104
        },
        "outputId": "641f3fe3-532b-44f4-d465-380d89690856"
      },
      "source": [
        "u,s,v = np.linalg.svd(X_std.T)\n",
        "\n",
        "print(u)\n",
        "print(s)\n"
      ],
      "execution_count": 45,
      "outputs": [
        {
          "output_type": "stream",
          "text": [
            "[[-0.52237162 -0.37231836  0.72101681  0.26199559]\n",
            " [ 0.26335492 -0.92555649 -0.24203288 -0.12413481]\n",
            " [-0.58125401 -0.02109478 -0.14089226 -0.80115427]\n",
            " [-0.56561105 -0.06541577 -0.6338014   0.52354627]]\n",
            "[20.89551896 11.75513248  4.7013819   1.75816839]\n"
          ],
          "name": "stdout"
        }
      ]
    },
    {
      "cell_type": "code",
      "metadata": {
        "id": "j-yzHec6awle",
        "colab_type": "code",
        "colab": {
          "base_uri": "https://localhost:8080/",
          "height": 338
        },
        "outputId": "2cc238c3-1cdb-4310-8a77-764e6cfdb577"
      },
      "source": [
        "import numpy as np\n",
        "import matplotlib.pyplot as plt\n",
        "from numpy import array\n",
        "from numpy import linalg as LA\n",
        "\n",
        "# Assume that I loaded 'N' no of 2d points from a file and used\n",
        "# np.cov() to find the below covariance matrix\n",
        "\n",
        "# This is my covariance matrix obtained from 2 x N points\n",
        "cov_mat = [[3407.3108669,  1473.06388943],\n",
        "           [1473.06388943, 1169.53151003]]\n",
        "\n",
        "eigen_values, eigen_vectors = LA.eig(cov_mat)\n",
        "\n",
        "#print(eigen_values)\n",
        "\n",
        "origin = [0, 0]\n",
        "eigVa1=10\n",
        "eigVa2=5\n",
        "eig_vec1 = eigen_vectors[:,0]\n",
        "eig_vec2 = eigen_vectors[:,1]\n",
        "\n",
        "print(eig_vec1*eigVa1)\n",
        "print(eig_vec2*eigVa2)\n",
        "print(eig_vec1)\n",
        "print(eig_vec2)\n",
        "\n",
        "\n",
        "# This line below plots the 2d points\n",
        "#plt.scatter(np_array[:,0], np_array[:,1])\n",
        "\n",
        "plt.quiver(*origin, *eig_vec1*eigVa1, color=['r'], scale=50)\n",
        "plt.quiver(*origin, *eig_vec2*eigVa2, color=['b'], scale=50)\n",
        "#plt.autoscale(enable=True, axis='both', tight=None)\n",
        "plt.xlim(-10000, 10000)\n",
        "plt.ylim(-10000, 10000)\n",
        "plt.show()"
      ],
      "execution_count": 42,
      "outputs": [
        {
          "output_type": "stream",
          "text": [
            "[8.95785778 4.44486039]\n",
            "[-2.2224302   4.47892889]\n",
            "[0.89578578 0.44448604]\n",
            "[-0.44448604  0.89578578]\n"
          ],
          "name": "stdout"
        },
        {
          "output_type": "display_data",
          "data": {
            "image/png": "[encoded data removed]",
            "text/plain": [
              "<Figure size 432x288 with 1 Axes>"
            ]
          },
          "metadata": {
            "tags": [],
            "needs_background": "light"
          }
        }
      ]
    },
    {
      "cell_type": "markdown",
      "metadata": {
        "id": "q4zIEIlNu5G1",
        "colab_type": "text"
      },
      "source": [
        "Ordenamos los autovalores de mayor a menor"
      ]
    },
    {
      "cell_type": "code",
      "metadata": {
        "id": "dJP_mOgHu5cb",
        "colab_type": "code",
        "outputId": "e0bcde71-7322-4dee-819d-9fe01cd67348",
        "colab": {
          "base_uri": "https://localhost:8080/",
          "height": 104
        }
      },
      "source": [
        "#  Hacemos una lista de parejas (autovector, autovalor) \n",
        "eig_pairs = [(np.abs(eig_vals[i]), eig_vecs[:,i]) for i in range(len(eig_vals))]\n",
        "\n",
        "# Ordenamos estas parejas en orden descendiente con la función sort\n",
        "eig_pairs.sort(key=lambda x: x[0], reverse=True)\n",
        "\n",
        "# Visualizamos la lista de autovalores en orden desdenciente\n",
        "print('Autovalores en orden descendiente:')\n",
        "for i in eig_pairs:\n",
        "    print(i[0])\n",
        "\n"
      ],
      "execution_count": 0,
      "outputs": [
        {
          "output_type": "stream",
          "text": [
            "Autovalores en orden descendiente:\n",
            "2.930353775589317\n",
            "0.9274036215173419\n",
            "0.14834222648163944\n",
            "0.02074601399559593\n"
          ],
          "name": "stdout"
        }
      ]
    },
    {
      "cell_type": "markdown",
      "metadata": {
        "id": "LtDy3nGOwE0m",
        "colab_type": "text"
      },
      "source": [
        "## **4 Seleccionar los autovectores correspondientes a las componentes principales**"
      ]
    },
    {
      "cell_type": "code",
      "metadata": {
        "id": "RV8Zqf4XwFDg",
        "colab_type": "code",
        "outputId": "43c0f2e4-8ec7-4f9d-ce10-ae1649d00c99",
        "colab": {
          "base_uri": "https://localhost:8080/",
          "height": 297
        }
      },
      "source": [
        "# los componentes selecionados dependeran de cuantas dimensiones deseamos reducir\n",
        "\n",
        "# A partir de los autovalores, calculamos la varianza explicada\n",
        "tot = sum(eig_vals)\n",
        "var_exp = [(i / tot)*100 for i in sorted(eig_vals, reverse=True)]\n",
        "cum_var_exp = np.cumsum(var_exp)\n",
        "\n",
        "# Representamos en un diagrama de barras la varianza explicada por cada autovalor, y la acumulada\n",
        "with plt.style.context('seaborn-pastel'):\n",
        "    plt.figure(figsize=(6, 4))\n",
        "\n",
        "    plt.bar(range(4), var_exp, alpha=0.5, align='center',\n",
        "            label='Varianza individual explicada', color='g')\n",
        "    plt.step(range(4), cum_var_exp, where='mid', linestyle='--', label='Varianza explicada acumulada')\n",
        "    plt.ylabel('Ratio de Varianza Explicada')\n",
        "    plt.xlabel('Componentes Principales')\n",
        "    plt.legend(loc='best')\n",
        "    plt.tight_layout()"
      ],
      "execution_count": 0,
      "outputs": [
        {
          "output_type": "display_data",
          "data": {
            "image/png": "[encoded data removed]",
            "text/plain": [
              "<Figure size 432x288 with 1 Axes>"
            ]
          },
          "metadata": {
            "tags": [],
            "needs_background": "light"
          }
        }
      ]
    },
    {
      "cell_type": "markdown",
      "metadata": {
        "id": "mscw_7qRxEB1",
        "colab_type": "text"
      },
      "source": [
        "## 5 Proyectar "
      ]
    },
    {
      "cell_type": "markdown",
      "metadata": {
        "id": "1mD2cnJPpmzo",
        "colab_type": "text"
      },
      "source": [
        "Proyectar el dataset original sobre el nuevo espacio de dimensión menor al espacio original "
      ]
    },
    {
      "cell_type": "code",
      "metadata": {
        "id": "b--JAgRUxEbr",
        "colab_type": "code",
        "outputId": "29264399-ab36-4265-ff78-bc6541f5f66f",
        "colab": {
          "base_uri": "https://localhost:8080/",
          "height": 104
        }
      },
      "source": [
        "#Generamos la matríz a partir de los pares autovalor-autovector\n",
        "matrix_w = np.hstack((eig_pairs[0][1].reshape(4,1),\n",
        "                      eig_pairs[1][1].reshape(4,1)))\n",
        "\n",
        "print('Matriz W:\\n', matrix_w)\n",
        "\n",
        "Y = X_std.dot(matrix_w)"
      ],
      "execution_count": 0,
      "outputs": [
        {
          "output_type": "stream",
          "text": [
            "Matriz W:\n",
            " [[ 0.52237162 -0.37231836]\n",
            " [-0.26335492 -0.92555649]\n",
            " [ 0.58125401 -0.02109478]\n",
            " [ 0.56561105 -0.06541577]]\n"
          ],
          "name": "stdout"
        }
      ]
    },
    {
      "cell_type": "markdown",
      "metadata": {
        "id": "QfB066zOx-fN",
        "colab_type": "text"
      },
      "source": [
        "Proyectar el dataset original sobre el nuevo espacio de dimensión menor al espacio original "
      ]
    },
    {
      "cell_type": "code",
      "metadata": {
        "id": "2BcUsEftx9tW",
        "colab_type": "code",
        "outputId": "4b5ca302-63de-40e3-d2ab-d8930bee8a54",
        "colab": {
          "base_uri": "https://localhost:8080/",
          "height": 297
        }
      },
      "source": [
        "with plt.style.context('seaborn-whitegrid'):\n",
        "    plt.figure(figsize=(6, 4))\n",
        "    for lab, col in zip(('Iris-setosa', 'Iris-versicolor', 'Iris-virginica'),\n",
        "                        ('magenta', 'cyan', 'limegreen')):\n",
        "        plt.scatter(Y[y==lab, 0],\n",
        "                    Y[y==lab, 1],\n",
        "                    label=lab,\n",
        "                    c=col)\n",
        "    plt.xlabel('Componente Principal 1')\n",
        "    plt.ylabel('Componente Principal 2')\n",
        "    plt.legend(loc='lower center')\n",
        "    plt.tight_layout()\n",
        "    plt.show()\n"
      ],
      "execution_count": 0,
      "outputs": [
        {
          "output_type": "display_data",
          "data": {
            "image/png": "[encoded data removed]",
            "text/plain": [
              "<Figure size 432x288 with 1 Axes>"
            ]
          },
          "metadata": {
            "tags": []
          }
        }
      ]
    }
  ]
}