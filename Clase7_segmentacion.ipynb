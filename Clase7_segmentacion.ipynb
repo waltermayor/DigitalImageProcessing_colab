{
  "nbformat": 4,
  "nbformat_minor": 0,
  "metadata": {
    "colab": {
      "name": "Clase7_segmentacion.ipynb",
      "provenance": [],
      "include_colab_link": true
    },
    "kernelspec": {
      "name": "python3",
      "display_name": "Python 3"
    }
  },
  "cells": [
    {
      "cell_type": "markdown",
      "metadata": {
        "id": "view-in-github",
        "colab_type": "text"
      },
      "source": [
        "<a href=\"https://colab.research.google.com/github/waltermayor/DigitalImageProcessing_colab/blob/master/Clase7_segmentacion.ipynb\" target=\"_parent\"><img src=\"https://colab.research.google.com/assets/colab-badge.svg\" alt=\"Open In Colab\"/></a>"
      ]
    },
    {
      "cell_type": "code",
      "metadata": {
        "id": "P4J-cFGsasdz",
        "colab_type": "code",
        "colab": {}
      },
      "source": [
        "from google.colab import drive\n",
        "drive.mount('/content/drive')\n",
        "\n",
        "# importar librerias necesarias \n",
        "\n",
        "import numpy as np\n",
        "import matplotlib.pyplot as plt\n",
        "import cv2\n",
        "import os\n",
        "\n",
        "path='/content/drive/My Drive/colab/images/'\n",
        "os.chdir(path)\n",
        "!pwd\n",
        "\n",
        "# graficar imagenes estaticas en el notebook\n",
        "%matplotlib inline  "
      ],
      "execution_count": 0,
      "outputs": []
    },
    {
      "cell_type": "markdown",
      "metadata": {
        "id": "7xQbEI2yj8C-",
        "colab_type": "text"
      },
      "source": [
        "# **THRESHOLDING** BASICO"
      ]
    },
    {
      "cell_type": "code",
      "metadata": {
        "id": "HzDGw0_5jiW3",
        "colab_type": "code",
        "colab": {}
      },
      "source": [
        "\n",
        "\n",
        "##Codigo bajado de:\n",
        "##http://docs.opencv.org/trunk/d7/d4d/tutorial_py_thresholding.html\n",
        "\n",
        "img = cv2.imread(\"../Clase7/imgex/gradient.png\",0)\n",
        "ret, th1 = cv2.threshold(img,127,255,cv2.THRESH_BINARY)\n",
        "ret, th2 = cv2.threshold(img, 127,255,cv2.THRESH_BINARY_INV)\n",
        "ret, th3 = cv2.threshold(img, 127,255,cv2.THRESH_TRUNC)\n",
        "ret, th4 = cv2.threshold(img, 127,255,cv2.THRESH_TOZERO)\n",
        "ret, th5 = cv2.threshold(img, 127,255,cv2.THRESH_TOZERO_INV)\n",
        "\n",
        "plt.subplot(2,3,1), plt.imshow(img,'gray'), plt.title(\"Original\")\n",
        "plt.subplot(2,3,2), plt.imshow(th1,'gray'), plt.title(\"TH binario\")\n",
        "plt.subplot(2,3,3), plt.imshow(th2,'gray'), plt.title(\"TH binario inv\")\n",
        "plt.subplot(2,3,4), plt.imshow(th3,'gray'), plt.title(\"TH truncado\")\n",
        "plt.subplot(2,3,5), plt.imshow(th4,'gray'), plt.title(\"TH A cero\")\n",
        "plt.subplot(2,3,6), plt.imshow(th5,'gray'), plt.title(\"TH A cero inv\")\n",
        "\n",
        "plt.show()\n"
      ],
      "execution_count": 0,
      "outputs": []
    },
    {
      "cell_type": "markdown",
      "metadata": {
        "id": "sYrJWeFHkNQ0",
        "colab_type": "text"
      },
      "source": [
        "# **THRESHOLDING** ADAPTATIVO"
      ]
    },
    {
      "cell_type": "code",
      "metadata": {
        "id": "vlx_Tpg4kNcu",
        "colab_type": "code",
        "colab": {}
      },
      "source": [
        "\n",
        "\n",
        "####Codigo bajado de:\n",
        "####http://docs.opencv.org/trunk/d7/d4d/tutorial_py_thresholding.html\n",
        "img = cv2.imread(\"../Clase7/imgex/sudoku2.jpg\",0)\n",
        "img = cv2.medianBlur(img,5)\n",
        "ret, th1 = cv2.threshold(img,127,255,cv2.THRESH_BINARY)\n",
        "th2 = cv2.adaptiveThreshold(img,255,cv2.ADAPTIVE_THRESH_MEAN_C,cv2.THRESH_BINARY,11,1)\n",
        "th3 = cv2.adaptiveThreshold(img,255,cv2.ADAPTIVE_THRESH_GAUSSIAN_C,cv2.THRESH_BINARY,11,1)\n",
        "plt.subplot(2,2,1), plt.imshow(img,'gray'), plt.title(\"Original\")\n",
        "plt.subplot(2,2,2), plt.imshow(th1,'gray'), plt.title(\"TH binario\")\n",
        "plt.subplot(2,2,3), plt.imshow(th2,'gray'), plt.title(\"TH ADAPT. MEDIA\")\n",
        "plt.subplot(2,2,4), plt.imshow(th3,'gray'), plt.title(\"TH ADAPT. GAUSS\")\n",
        "plt.show()"
      ],
      "execution_count": 0,
      "outputs": []
    },
    {
      "cell_type": "markdown",
      "metadata": {
        "id": "PdDOJcSIlS_H",
        "colab_type": "text"
      },
      "source": [
        "# **THRESHOLDING OTSU**\n",
        "\n"
      ]
    },
    {
      "cell_type": "code",
      "metadata": {
        "id": "q07b7toBlTHt",
        "colab_type": "code",
        "colab": {}
      },
      "source": [
        "####Codigo bajado de:\n",
        "####http://docs.opencv.org/trunk/d7/d4d/tutorial_py_thresholding.html\n",
        "\n",
        "img=cv2.imread(\"../Clase7/imgex/bimodal_hsv_noise.png\",0)\n",
        "blur = cv2.GaussianBlur(img,(5,5),0)\n",
        "ret1,th1 = cv2.threshold(blur,127, 255, cv2.THRESH_BINARY)\n",
        "ret2,th2 = cv2.threshold(img,0,255,cv2.THRESH_BINARY + cv2.THRESH_OTSU)\n",
        "print(\"El valor de threshold otsu es %f:\" % ret2)\n",
        "ret3,th3 = cv2.threshold(blur,0,255,cv2.THRESH_BINARY + cv2.THRESH_OTSU)\n",
        "print(\"El valor de threshold otsu sin ruido es %f:\" % ret3)\n",
        "\n",
        "plt.subplot(3,2,1), plt.imshow(img,'gray'), plt.title(\"Original\")\n",
        "plt.subplot(3,2,2), plt.hist(img.ravel(),256),\n",
        "plt.subplot(3,2,3), plt.imshow(th1,'gray'), plt.title(\"TH Binario\")\n",
        "plt.subplot(3,2,4), plt.imshow(th2,'gray'), plt.title(\"TH Otsu\")\n",
        "plt.subplot(3,2,5), plt.imshow(th3,'gray'), plt.title(\"TH Otsu sin ruido\")\n",
        "plt.subplot(3,2,6), plt.hist(blur.ravel(),256)\n",
        "\n",
        "plt.show()\n"
      ],
      "execution_count": 0,
      "outputs": []
    }
  ]
}