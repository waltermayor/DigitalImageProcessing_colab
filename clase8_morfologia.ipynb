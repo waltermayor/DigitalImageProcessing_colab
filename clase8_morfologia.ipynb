{
  "nbformat": 4,
  "nbformat_minor": 0,
  "metadata": {
    "colab": {
      "name": "clase8_morfologia.ipynb",
      "provenance": [],
      "include_colab_link": true
    },
    "kernelspec": {
      "name": "python3",
      "display_name": "Python 3"
    }
  },
  "cells": [
    {
      "cell_type": "markdown",
      "metadata": {
        "id": "view-in-github",
        "colab_type": "text"
      },
      "source": [
        "<a href=\"https://colab.research.google.com/github/waltermayor/DigitalImageProcessing_colab/blob/master/clase8_morfologia.ipynb\" target=\"_parent\"><img src=\"https://colab.research.google.com/assets/colab-badge.svg\" alt=\"Open In Colab\"/></a>"
      ]
    },
    {
      "cell_type": "code",
      "metadata": {
        "id": "6Jjlfh-wzP_u",
        "colab_type": "code",
        "colab": {}
      },
      "source": [
        "\"\"\"HIT OR MISS\"\"\"\n",
        "def mostrar_kernel(kernel,rate):\n",
        "      kernel = (kernel + 1) * 127\n",
        "      kernel = np.uint8(kernel)\n",
        "      rate = 50\n",
        "      kernel = cv2.resize(kernel, None, fx = rate, fy = rate, interpolation = cv2.INTER_NEAREST)\n",
        "      cv2.imshow(\"kernel\", kernel)\n",
        "      cv2.moveWindow(\"kernel\", 0, 0)\n",
        "                                       \n",
        "input_image = np.zeros((16,16), dtype=\"uint8\")\n",
        "input_image[4:6,3:7]=255\n",
        "input_image[3:6, 9:14]=255\n",
        "cv2.imshow(\"OriginalT\", input_image)\n",
        "input_image[4,14]=255\n",
        "input_image[6:7, 2:14]=255\n",
        "input_image[7:8, 3:13]=255\n",
        "input_image[8:10, 3:5]=255\n",
        "input_image[8:11, 10:14]=255\n",
        "input_image[10, 4]=255\n",
        "input_image[11:15, 3:10]=255\n",
        "input_image[11:14, 10:11]=255\n",
        "input_image[11:13, 11:12]=255\n",
        "input_image[11:12, 12:13]=255\n",
        "kernel0 = np.array((\n",
        "        [0, 1, 0],\n",
        "        [-1, 1, 1],\n",
        "        [-1, -1, 0]), dtype=\"int\")\n",
        "\n",
        "\n",
        "rate = 50\n",
        "mostrar_kernel(kernel0,rate)\n",
        "output_image = cv2.morphologyEx(input_image, cv2.MORPH_HITMISS, kernel0)\n",
        "output_image = cv2.resize(output_image, None , fx = rate, fy = rate, interpolation = cv2.INTER_NEAREST)\n",
        "\n",
        "output_image = output_image \n",
        "cv2.imshow(\"Hit or Miss\" , output_image)\n",
        "cv2.moveWindow(\"Hit or Miss\"  , 500, 200)\n",
        "\n",
        "input_image = cv2.resize(input_image, None, fx = rate, fy = rate, interpolation = cv2.INTER_NEAREST)\n",
        "cv2.imshow(\"Original\", input_image)\n",
        "cv2.moveWindow(\"Original\", 0, 200)\n",
        "\n",
        "cv2.waitKey(0)\n",
        "cv2.destroyAllWindows()"
      ],
      "execution_count": 0,
      "outputs": []
    },
    {
      "cell_type": "markdown",
      "metadata": {
        "id": "zAQfKqD811_u",
        "colab_type": "text"
      },
      "source": [
        ""
      ]
    },
    {
      "cell_type": "code",
      "metadata": {
        "id": "e1MrKs_112Zh",
        "colab_type": "code",
        "colab": {}
      },
      "source": [
        "\"\"\"\n",
        "TRANSFORMADA DE HOUGH: PROBLEMA APLICACION CONCEPTOS\n",
        "\"\"\"\n",
        "\n",
        "img = cv2.imread(\"sudoku.png\") \n",
        "img_gray = cv2.cvtColor(img, cv2.COLOR_BGR2GRAY)\n",
        "bordes = cv2.Canny(img_gray,50,200,apertureSize=3)\n",
        "\n",
        "\"\"\"\n",
        "rho – Distance resolution of the accumulator in pixels.\n",
        "theta – Angle resolution of the accumulator in radians.\n",
        "threshold – Accumulator threshold parameter. Only those lines are returned that get enough votes ( >\\texttt{threshold} ).\n",
        "\"\"\"\n",
        "lineas = cv2.HoughLines(bordes, 1, np.pi/60,150)\n",
        "##\n",
        "for i in range(len(lineas)):\n",
        "      for rho, theta in lineas[i]:\n",
        "            a = np.cos(theta)\n",
        "            b = np.sin(theta)\n",
        "            x0=a*rho\n",
        "            y0=b*rho\n",
        "            x1 = int(x0 + 1000*(-b))\n",
        "            y1 = int(y0 + 1000*(a))\n",
        "            x2 = int(x0 - 1000*(-b))\n",
        "            y2 = int(y0 - 1000*(a))\n",
        "            cv2.line(img,(x1,y1),(x2,y2),(0,0,255),2)\n",
        "\n",
        "cv2.imshow(\"Bordes..\", bordes)\n",
        "cv2.imshow(\"Lineas..\", img)\n",
        "cv2.waitKey(0)\n",
        "cv2.destroyAllWindows()\n",
        "\n"
      ],
      "execution_count": 0,
      "outputs": []
    },
    {
      "cell_type": "code",
      "metadata": {
        "id": "a95G1fkO_R7h",
        "colab_type": "code",
        "colab": {}
      },
      "source": [
        "\"\"\"\n",
        "Lineas probabilistico:\n",
        "Parameters:\t\n",
        "image – 8-bit, single-channel binary source image. The image may be modified by the function.\n",
        "lines – Output vector of lines. Each line is represented by a 4-element vector  (x_1, y_1, x_2, y_2) , where  (x_1,y_1) and  (x_2, y_2) are the ending points of each detected line segment.\n",
        "rho – Distance resolution of the accumulator in pixels.\n",
        "theta – Angle resolution of the accumulator in radians.\n",
        "threshold – Accumulator threshold parameter. Only those lines are returned that get enough votes ( >\\texttt{threshold} ).\n",
        "minLineLength – Minimum line length. Line segments shorter than that are rejected.\n",
        "maxLineGap – Maximum allowed gap between points on the same line to link them.\n",
        "\"\"\"\n",
        "minLineLength = 50\n",
        "maxLineGap = 10\n",
        "lineas = cv2.HoughLinesP(bordes,1, np.pi/180, 80, minLineLength, maxLineGap) \n",
        "for i in range(len(lineas)):\n",
        "      for x1,y1,x2,y2 in lineas[i]:\n",
        "          cv2.line(img,(x1,y1),(x2,y2),(0,0,255),2)\n",
        "\n",
        "cv2.imshow(\"Lineas..\", img)\n",
        "cv2.waitKey(0)\n",
        "cv2.destroyAllWindows()\n",
        "\n"
      ],
      "execution_count": 0,
      "outputs": []
    },
    {
      "cell_type": "code",
      "metadata": {
        "id": "gxuoqhBu_dJh",
        "colab_type": "code",
        "colab": {}
      },
      "source": [
        "\"\"\"\n",
        "Opencv Circulos Hough\n",
        "Parameters:\t\n",
        "image – 8-bit, single-channel, grayscale input image.\n",
        "circles – Output vector of found circles. Each vector is encoded as a 3-element floating-point vector  (x, y, radius) .\n",
        "circle_storage – In C function this is a memory storage that will contain the output sequence of found circles.\n",
        "method – Detection method to use. Currently, the only implemented method is CV_HOUGH_GRADIENT , which is basically 21HT , described in [Yuen90].\n",
        "dp – Inverse ratio of the accumulator resolution to the image resolution. For example, if dp=1 , the accumulator has the same resolution as the input image. If dp=2 , the accumulator has half as big width and height.\n",
        "minDist – Minimum distance between the centers of the detected circles. If the parameter is too small, multiple neighbor circles may be falsely detected in addition to a true one. If it is too large, some circles may be missed.\n",
        "param1 – First method-specific parameter. In case of CV_HOUGH_GRADIENT , it is the higher threshold of the two passed\n",
        "to the Canny() edge detector (the lower one is twice smaller).\n",
        "param2 – Second method-specific parameter. In case of CV_HOUGH_GRADIENT , it is the accumulator threshold for the circle\n",
        "centers at the detection stage. The smaller it is, the more false circles may be detected. Circles, corresponding to the larger accumulator values, will be returned first.\n",
        "minRadius – Minimum circle radius.\n",
        "maxRadius – Maximum circle radius.\n",
        "\n",
        "A circle is represented mathematically as (x-x_{center})^2 + (y - y_{center})^2 = r^2 where (x_{center},y_{center})\n",
        "is the center of the circle, and r is the radius of the circle. From equation, we can see we have 3 parameters,\n",
        "so we need a 3D accumulator for hough transform, which would be highly ineffective. So OpenCV uses more trickier method,\n",
        "Hough Gradient Method which uses the gradient information of edges.\n",
        "\"\"\"\n",
        "\n",
        "\n",
        "cimg = cv2.imread(\"8circles.jpg\")\n",
        "img_gray = cv2.cvtColor(cimg, cv2.COLOR_BGR2GRAY)\n",
        "img = cv2.medianBlur(img_gray,5)\n",
        "\n",
        "circulos = cv2.HoughCircles(img,cv2.HOUGH_GRADIENT,1,150,param1=100,param2=30,minRadius=0,maxRadius=0)\n",
        "circulos = np.uint16(np.around(circulos))\n",
        "\n",
        "\"\"\"\n",
        "Python: cv.Circle(img, center, radius, color, thickness=1, lineType=8, shift=0) → None\n",
        "Parameters:\t\n",
        "img – Image where the circle is drawn.\n",
        "center – Center of the circle.\n",
        "radius – Radius of the circle.\n",
        "color – Circle color.\n",
        "thickness – Thickness of the circle outline, if positive. Negative thickness means that a filled circle is to be drawn.\n",
        "lineType – Type of the circle boundary. See the line() description.\n",
        "shift – Number of fractional bits in the coordinates of the center and in the radius value.\n",
        "\"\"\"\n",
        "\n",
        "for i in circulos[0,:]:\n",
        "    # draw the outer circle\n",
        "    cv2.circle(cimg,(i[0],i[1]),i[2],(0,255,0),2)\n",
        "    # draw the center of the circle\n",
        "    cv2.circle(cimg,(i[0],i[1]),2,(0,0,255),3)\n",
        "\n",
        "cv2.imshow('Circulos Detectados',cimg)\n",
        "cv2.waitKey(0)\n",
        "cv2.destroyAllWindows()\n"
      ],
      "execution_count": 0,
      "outputs": []
    }
  ]
}