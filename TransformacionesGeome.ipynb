{
  "nbformat": 4,
  "nbformat_minor": 0,
  "metadata": {
    "colab": {
      "name": "TransformacionesGeome.ipynb",
      "provenance": [],
      "authorship_tag": "ABX9TyM2MvY/VnvZ3LKQlsVxLU+n",
      "include_colab_link": true
    },
    "kernelspec": {
      "name": "python3",
      "display_name": "Python 3"
    }
  },
  "cells": [
    {
      "cell_type": "markdown",
      "metadata": {
        "id": "view-in-github",
        "colab_type": "text"
      },
      "source": [
        "<a href=\"https://colab.research.google.com/github/waltermayor/DigitalImageProcessing_colab/blob/master/TransformacionesGeome.ipynb\" target=\"_parent\"><img src=\"https://colab.research.google.com/assets/colab-badge.svg\" alt=\"Open In Colab\"/></a>"
      ]
    },
    {
      "cell_type": "markdown",
      "metadata": {
        "id": "qlIRt35nbFXf",
        "colab_type": "text"
      },
      "source": [
        "Escalado"
      ]
    },
    {
      "cell_type": "code",
      "metadata": {
        "id": "dThcbHNzY9pE",
        "colab_type": "code",
        "colab": {}
      },
      "source": [
        "import cv2\n",
        "import numpy as np\n",
        "\n",
        "img = cv2.imread('messi5.jpg')\n",
        "\n",
        "res = cv2.resize(img,None,fx=2, fy=2, interpolation = cv2.INTER_CUBIC)\n",
        "\n",
        "#OR\n",
        "\n",
        "height, width = img.shape[:2]\n",
        "res = cv2.resize(img,(2*width, 2*height), interpolation = cv2.INTER_CUBIC)"
      ],
      "execution_count": 0,
      "outputs": []
    }
  ]
}